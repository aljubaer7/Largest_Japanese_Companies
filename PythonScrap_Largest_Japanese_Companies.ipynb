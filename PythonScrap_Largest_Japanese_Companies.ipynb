{
 "cells": [
  {
   "cell_type": "code",
   "execution_count": 3,
   "id": "15ed4dfa",
   "metadata": {},
   "outputs": [],
   "source": [
    "from bs4 import BeautifulSoup\n",
    "import requests\n",
    "import pandas as pd"
   ]
  },
  {
   "cell_type": "code",
   "execution_count": 4,
   "id": "222cae39",
   "metadata": {},
   "outputs": [],
   "source": [
    "url = 'https://en.wikipedia.org/wiki/List_of_largest_Japanese_companies'\n",
    "\n",
    "page = requests.get(url)\n",
    "\n",
    "soup = BeautifulSoup(page.text, 'html')"
   ]
  },
  {
   "cell_type": "code",
   "execution_count": 5,
   "id": "a2015ab9",
   "metadata": {},
   "outputs": [
    {
     "data": {
      "text/plain": [
       "[]"
      ]
     },
     "execution_count": 5,
     "metadata": {},
     "output_type": "execute_result"
    }
   ],
   "source": [
    "soup.find_all('wikitable sortable')"
   ]
  },
  {
   "cell_type": "code",
   "execution_count": 6,
   "id": "c5f5841c",
   "metadata": {},
   "outputs": [],
   "source": [
    "table0 = soup.find_all('table')[0]"
   ]
  },
  {
   "cell_type": "code",
   "execution_count": 8,
   "id": "5b297579",
   "metadata": {},
   "outputs": [],
   "source": [
    "# print(table0)\n",
    "# print(table1)"
   ]
  },
  {
   "cell_type": "code",
   "execution_count": 25,
   "id": "7a9cbf03",
   "metadata": {},
   "outputs": [],
   "source": [
    "dt0_titles = table0.find_all('th')"
   ]
  },
  {
   "cell_type": "code",
   "execution_count": 57,
   "id": "b6cf00bc",
   "metadata": {},
   "outputs": [],
   "source": [
    "#dt0_titles"
   ]
  },
  {
   "cell_type": "code",
   "execution_count": 27,
   "id": "3cd12692",
   "metadata": {},
   "outputs": [
    {
     "name": "stdout",
     "output_type": "stream",
     "text": [
      "['Rank', 'Fortune 500rank', 'Name', 'Industry', 'Revenue(USD millions)', 'Profits(USD millions)', 'Assets (USD millions)', 'Employees', 'Headquarters']\n"
     ]
    }
   ],
   "source": [
    "t0_titles = [title.text.strip() for title in dt0_titles]\n",
    "print(t0_titles)"
   ]
  },
  {
   "cell_type": "code",
   "execution_count": 28,
   "id": "a2775085",
   "metadata": {},
   "outputs": [
    {
     "data": {
      "text/html": [
       "<div>\n",
       "<style scoped>\n",
       "    .dataframe tbody tr th:only-of-type {\n",
       "        vertical-align: middle;\n",
       "    }\n",
       "\n",
       "    .dataframe tbody tr th {\n",
       "        vertical-align: top;\n",
       "    }\n",
       "\n",
       "    .dataframe thead th {\n",
       "        text-align: right;\n",
       "    }\n",
       "</style>\n",
       "<table border=\"1\" class=\"dataframe\">\n",
       "  <thead>\n",
       "    <tr style=\"text-align: right;\">\n",
       "      <th></th>\n",
       "      <th>Rank</th>\n",
       "      <th>Fortune 500rank</th>\n",
       "      <th>Name</th>\n",
       "      <th>Industry</th>\n",
       "      <th>Revenue(USD millions)</th>\n",
       "      <th>Profits(USD millions)</th>\n",
       "      <th>Assets (USD millions)</th>\n",
       "      <th>Employees</th>\n",
       "      <th>Headquarters</th>\n",
       "    </tr>\n",
       "  </thead>\n",
       "  <tbody>\n",
       "  </tbody>\n",
       "</table>\n",
       "</div>"
      ],
      "text/plain": [
       "Empty DataFrame\n",
       "Columns: [Rank, Fortune 500rank, Name, Industry, Revenue(USD millions), Profits(USD millions), Assets (USD millions), Employees, Headquarters]\n",
       "Index: []"
      ]
     },
     "execution_count": 28,
     "metadata": {},
     "output_type": "execute_result"
    }
   ],
   "source": [
    "df0 = pd.DataFrame(columns = t0_titles)\n",
    "df0"
   ]
  },
  {
   "cell_type": "code",
   "execution_count": 30,
   "id": "8792293e",
   "metadata": {},
   "outputs": [],
   "source": [
    "col_data0 = table0.find_all('tr')"
   ]
  },
  {
   "cell_type": "code",
   "execution_count": 31,
   "id": "3ed6b6e9",
   "metadata": {},
   "outputs": [],
   "source": [
    "for row in col_data0[1:]:\n",
    "    row_data = row.find_all('td')\n",
    "    ind_row_data = [data.text.strip() for data in row_data]\n",
    "\n",
    "    length = len(df0)\n",
    "    df0.loc[length] = ind_row_data"
   ]
  },
  {
   "cell_type": "code",
   "execution_count": 43,
   "id": "15f0afa1",
   "metadata": {},
   "outputs": [],
   "source": [
    "#df0"
   ]
  },
  {
   "cell_type": "code",
   "execution_count": 39,
   "id": "ded6c975",
   "metadata": {},
   "outputs": [
    {
     "name": "stdout",
     "output_type": "stream",
     "text": [
      "Index(['Rank', 'Fortune 500rank', 'Name', 'Industry', 'Revenue(USD millions)',\n",
      "       'Profits(USD millions)', 'Assets (USD millions)', 'Employees',\n",
      "       'Headquarters'],\n",
      "      dtype='object')\n"
     ]
    }
   ],
   "source": [
    "#heading_table0_titles\n",
    "print(df0.columns)"
   ]
  },
  {
   "cell_type": "code",
   "execution_count": 44,
   "id": "0dae1569",
   "metadata": {},
   "outputs": [],
   "source": [
    "for col in df0.columns:\n",
    "    df0[col] = pd.to_numeric(df0[col], errors='ignore')"
   ]
  },
  {
   "cell_type": "code",
   "execution_count": 45,
   "id": "16a6aa82",
   "metadata": {},
   "outputs": [
    {
     "name": "stdout",
     "output_type": "stream",
     "text": [
      "Rank                      int64\n",
      "Fortune 500rank           int64\n",
      "Name                     object\n",
      "Industry                 object\n",
      "Revenue(USD millions)    object\n",
      "Profits(USD millions)    object\n",
      "Assets (USD millions)    object\n",
      "Employees                object\n",
      "Headquarters             object\n",
      "dtype: object\n"
     ]
    }
   ],
   "source": [
    "print(df0.dtypes)"
   ]
  },
  {
   "cell_type": "code",
   "execution_count": 46,
   "id": "72af34e1",
   "metadata": {},
   "outputs": [],
   "source": [
    "table1 = soup.find_all('table')[1]"
   ]
  },
  {
   "cell_type": "code",
   "execution_count": 48,
   "id": "7f66e35e",
   "metadata": {},
   "outputs": [],
   "source": [
    "dt1_titles = table1.find_all('th')\n",
    "#dt1_titles"
   ]
  },
  {
   "cell_type": "code",
   "execution_count": 49,
   "id": "de590142",
   "metadata": {},
   "outputs": [
    {
     "name": "stdout",
     "output_type": "stream",
     "text": [
      "['Rank', 'Forbes 2000 rank', 'Name', 'Headquarters', 'Revenue(billions US$)', 'Profit(billions US$)', 'Assets(billions US$)', 'Value(billions US$)', 'Industry']\n"
     ]
    }
   ],
   "source": [
    "t1_titles = [title.text.strip() for title in dt1_titles]\n",
    "print(t1_titles)"
   ]
  },
  {
   "cell_type": "code",
   "execution_count": 50,
   "id": "ea2699cb",
   "metadata": {},
   "outputs": [
    {
     "data": {
      "text/html": [
       "<div>\n",
       "<style scoped>\n",
       "    .dataframe tbody tr th:only-of-type {\n",
       "        vertical-align: middle;\n",
       "    }\n",
       "\n",
       "    .dataframe tbody tr th {\n",
       "        vertical-align: top;\n",
       "    }\n",
       "\n",
       "    .dataframe thead th {\n",
       "        text-align: right;\n",
       "    }\n",
       "</style>\n",
       "<table border=\"1\" class=\"dataframe\">\n",
       "  <thead>\n",
       "    <tr style=\"text-align: right;\">\n",
       "      <th></th>\n",
       "      <th>Rank</th>\n",
       "      <th>Forbes 2000 rank</th>\n",
       "      <th>Name</th>\n",
       "      <th>Headquarters</th>\n",
       "      <th>Revenue(billions US$)</th>\n",
       "      <th>Profit(billions US$)</th>\n",
       "      <th>Assets(billions US$)</th>\n",
       "      <th>Value(billions US$)</th>\n",
       "      <th>Industry</th>\n",
       "    </tr>\n",
       "  </thead>\n",
       "  <tbody>\n",
       "  </tbody>\n",
       "</table>\n",
       "</div>"
      ],
      "text/plain": [
       "Empty DataFrame\n",
       "Columns: [Rank, Forbes 2000 rank, Name, Headquarters, Revenue(billions US$), Profit(billions US$), Assets(billions US$), Value(billions US$), Industry]\n",
       "Index: []"
      ]
     },
     "execution_count": 50,
     "metadata": {},
     "output_type": "execute_result"
    }
   ],
   "source": [
    "df1 = pd.DataFrame(columns = t1_titles)\n",
    "df1"
   ]
  },
  {
   "cell_type": "code",
   "execution_count": 53,
   "id": "ec11f8ce",
   "metadata": {},
   "outputs": [],
   "source": [
    "col_data1 = table1.find_all('tr')\n",
    "#col_data1"
   ]
  },
  {
   "cell_type": "code",
   "execution_count": 54,
   "id": "6e18e259",
   "metadata": {},
   "outputs": [],
   "source": [
    "for row in col_data1[1:]:\n",
    "    row_data = row.find_all('td')\n",
    "    ind_row_data = [data.text.strip() for data in row_data]\n",
    "    \n",
    "    length = len(df1)\n",
    "    df1.loc[length] = ind_row_data"
   ]
  },
  {
   "cell_type": "code",
   "execution_count": 56,
   "id": "686822b6",
   "metadata": {},
   "outputs": [],
   "source": [
    "#df1"
   ]
  },
  {
   "cell_type": "code",
   "execution_count": 60,
   "id": "24eedf99",
   "metadata": {},
   "outputs": [
    {
     "name": "stdout",
     "output_type": "stream",
     "text": [
      "Index(['Rank', 'Forbes 2000 rank', 'Name', 'Headquarters',\n",
      "       'Revenue(billions US$)', 'Profit(billions US$)', 'Assets(billions US$)',\n",
      "       'Value(billions US$)', 'Industry'],\n",
      "      dtype='object')\n"
     ]
    }
   ],
   "source": [
    "#heading_table0_titles\n",
    "print(df1.columns)"
   ]
  },
  {
   "cell_type": "code",
   "execution_count": 61,
   "id": "7fa09f1b",
   "metadata": {},
   "outputs": [],
   "source": [
    "for col in df1.columns:\n",
    "    df1[col] = pd.to_numeric(df1[col], errors='ignore')"
   ]
  },
  {
   "cell_type": "code",
   "execution_count": 62,
   "id": "8c19bc89",
   "metadata": {},
   "outputs": [
    {
     "name": "stdout",
     "output_type": "stream",
     "text": [
      "Rank                       int64\n",
      "Forbes 2000 rank           int64\n",
      "Name                      object\n",
      "Headquarters              object\n",
      "Revenue(billions US$)    float64\n",
      "Profit(billions US$)     float64\n",
      "Assets(billions US$)      object\n",
      "Value(billions US$)      float64\n",
      "Industry                  object\n",
      "dtype: object\n"
     ]
    }
   ],
   "source": [
    "print(df1.dtypes)"
   ]
  },
  {
   "cell_type": "code",
   "execution_count": 67,
   "id": "566058b2",
   "metadata": {},
   "outputs": [],
   "source": [
    "df0.to_csv(r'C:\\Users\\juven\\Documents\\Top Japaneese Companies_PyWebScrap_Test00.csv', mode='a', index=False, header=True)"
   ]
  },
  {
   "cell_type": "code",
   "execution_count": 68,
   "id": "084383ac",
   "metadata": {},
   "outputs": [],
   "source": [
    "df1.to_csv(r'C:\\Users\\juven\\Documents\\Top Japaneese Companies_PyWebScrap_Test01.csv', mode='a', index=False, header=True)"
   ]
  },
  {
   "cell_type": "code",
   "execution_count": 69,
   "id": "59e828d1",
   "metadata": {},
   "outputs": [],
   "source": [
    "output_csv_path = \"Top Japaneese Companies_PyWebScrap_Test01_Combind.xlsx\""
   ]
  },
  {
   "cell_type": "code",
   "execution_count": 70,
   "id": "7738b79f",
   "metadata": {},
   "outputs": [],
   "source": [
    "with pd.ExcelWriter(output_csv_path, engine=\"xlsxwriter\") as writer:\n",
    "    df0.to_excel(writer, sheet_name=\"Fortune_500\")\n",
    "    df1.to_excel(writer, sheet_name=\"Forbes_2000\")"
   ]
  },
  {
   "cell_type": "code",
   "execution_count": null,
   "id": "f4476911",
   "metadata": {},
   "outputs": [],
   "source": []
  },
  {
   "cell_type": "code",
   "execution_count": null,
   "id": "38b05899",
   "metadata": {},
   "outputs": [],
   "source": []
  },
  {
   "cell_type": "code",
   "execution_count": null,
   "id": "1b9827e9",
   "metadata": {},
   "outputs": [],
   "source": []
  }
 ],
 "metadata": {
  "kernelspec": {
   "display_name": "Python 3 (ipykernel)",
   "language": "python",
   "name": "python3"
  },
  "language_info": {
   "codemirror_mode": {
    "name": "ipython",
    "version": 3
   },
   "file_extension": ".py",
   "mimetype": "text/x-python",
   "name": "python",
   "nbconvert_exporter": "python",
   "pygments_lexer": "ipython3",
   "version": "3.11.5"
  }
 },
 "nbformat": 4,
 "nbformat_minor": 5
}
